{
 "cells": [
  {
   "cell_type": "markdown",
   "metadata": {},
   "source": [
    "## Sentiment Analysis using Twitter Data by SVM"
   ]
  },
  {
   "cell_type": "code",
   "execution_count": 82,
   "metadata": {
    "collapsed": true
   },
   "outputs": [],
   "source": [
    "import tweepy\n",
    "import nltk"
   ]
  },
  {
   "cell_type": "markdown",
   "metadata": {},
   "source": [
    "### Downloading all the necessary data for cleaning the tweets from NLTK function"
   ]
  },
  {
   "cell_type": "code",
   "execution_count": 83,
   "metadata": {},
   "outputs": [
    {
     "name": "stderr",
     "output_type": "stream",
     "text": [
      "[nltk_data] Downloading package twitter_samples to C:\\Users\\Jithin\n",
      "[nltk_data]     Sasikumar\\AppData\\Roaming\\nltk_data...\n",
      "[nltk_data]   Package twitter_samples is already up-to-date!\n",
      "[nltk_data] Downloading package punkt to C:\\Users\\Jithin\n",
      "[nltk_data]     Sasikumar\\AppData\\Roaming\\nltk_data...\n",
      "[nltk_data]   Package punkt is already up-to-date!\n",
      "[nltk_data] Downloading package wordnet to C:\\Users\\Jithin\n",
      "[nltk_data]     Sasikumar\\AppData\\Roaming\\nltk_data...\n",
      "[nltk_data]   Package wordnet is already up-to-date!\n",
      "[nltk_data] Downloading package averaged_perceptron_tagger to\n",
      "[nltk_data]     C:\\Users\\Jithin Sasikumar\\AppData\\Roaming\\nltk_data...\n",
      "[nltk_data]   Package averaged_perceptron_tagger is already up-to-\n",
      "[nltk_data]       date!\n",
      "[nltk_data] Downloading package stopwords to C:\\Users\\Jithin\n",
      "[nltk_data]     Sasikumar\\AppData\\Roaming\\nltk_data...\n",
      "[nltk_data]   Package stopwords is already up-to-date!\n"
     ]
    },
    {
     "data": {
      "text/plain": [
       "True"
      ]
     },
     "execution_count": 83,
     "metadata": {},
     "output_type": "execute_result"
    }
   ],
   "source": [
    "nltk.download('twitter_samples')\n",
    "nltk.download('punkt')\n",
    "nltk.download('wordnet')\n",
    "nltk.download('averaged_perceptron_tagger')\n",
    "nltk.download('stopwords')"
   ]
  },
  {
   "cell_type": "markdown",
   "metadata": {},
   "source": [
    "### Include all necessary headers & libraries"
   ]
  },
  {
   "cell_type": "code",
   "execution_count": 109,
   "metadata": {
    "collapsed": true
   },
   "outputs": [],
   "source": [
    "from nltk.corpus import twitter_samples\n",
    "from nltk.tag import pos_tag\n",
    "from nltk.stem.wordnet import WordNetLemmatizer\n",
    "import re, string\n",
    "from nltk.corpus import stopwords\n",
    "stop_words = stopwords.words('english')\n",
    "from nltk import FreqDist\n",
    "from nltk import classify\n",
    "from nltk import NaiveBayesClassifier\n",
    "from nltk.tokenize import word_tokenize\n",
    "from sklearn import svm\n",
    "from sklearn.metrics import classification_report\n",
    "from sklearn.feature_extraction.text import TfidfVectorizer\n",
    "from sklearn import svm, model_selection\n",
    "from sklearn.preprocessing import LabelEncoder\n",
    "from sklearn.metrics import accuracy_score\n",
    "from wordcloud import STOPWORDS, WordCloud\n",
    "import matplotlib.pyplot as plt\n",
    "import numpy as np\n",
    "import random\n",
    "import pandas as pd\n",
    "from nltk.corpus import twitter_samples\n",
    "from nltk.tag import pos_tag\n",
    "from nltk.stem.wordnet import WordNetLemmatizer\n",
    "import re, string\n",
    "from nltk.corpus import stopwords\n",
    "stop_words = stopwords.words('english')\n",
    "from nltk import FreqDist\n",
    "from nltk import classify\n",
    "from nltk import NaiveBayesClassifier\n",
    "from nltk.tokenize import word_tokenize\n",
    "from wordcloud import STOPWORDS, WordCloud\n",
    "import matplotlib.pyplot as plt\n",
    "from sklearn.svm import LinearSVC\n",
    "from sklearn.linear_model import LogisticRegression\n",
    "from nltk import classify \n",
    "from bs4 import BeautifulSoup\n",
    "from nltk.tokenize import WordPunctTokenizer\n",
    "from nltk.stem.wordnet import WordNetLemmatizer\n",
    "from nltk.corpus import twitter_samples, stopwords\n",
    "from nltk.tag import pos_tag\n",
    "from nltk.tokenize import word_tokenize\n",
    "from nltk import FreqDist, classify, NaiveBayesClassifier\n",
    "import re, string, random\n",
    "import warnings\n",
    "warnings.filterwarnings('ignore')\n",
    "from itertools import chain\n",
    "from sklearn.metrics import confusion_matrix\n",
    "import seaborn as sn"
   ]
  },
  {
   "cell_type": "markdown",
   "metadata": {},
   "source": [
    "### Downloading twitter data from NLTK corpus"
   ]
  },
  {
   "cell_type": "code",
   "execution_count": 85,
   "metadata": {
    "collapsed": true
   },
   "outputs": [],
   "source": [
    "positive_tweets = twitter_samples.strings('positive_tweets.json')\n",
    "negative_tweets = twitter_samples.strings('negative_tweets.json')\n",
    "text = twitter_samples.strings('tweets.20150430-223406.json')\n",
    "tweet_tokens = twitter_samples.tokenized('positive_tweets.json')"
   ]
  },
  {
   "cell_type": "code",
   "execution_count": 86,
   "metadata": {},
   "outputs": [
    {
     "name": "stdout",
     "output_type": "stream",
     "text": [
      "['#FollowFriday', '@France_Inte', '@PKuchly57', '@Milipol_Paris', 'for', 'being', 'top', 'engaged', 'members', 'in', 'my', 'community', 'this', 'week', ':)']\n"
     ]
    }
   ],
   "source": [
    "#Tokeninzing the tweets using the NLTK's tokenized functions\n",
    "print(tweet_tokens[0])"
   ]
  },
  {
   "cell_type": "markdown",
   "metadata": {},
   "source": [
    "### Data pre-processing: removing links, special characters and stopwords"
   ]
  },
  {
   "cell_type": "code",
   "execution_count": 87,
   "metadata": {
    "collapsed": true
   },
   "outputs": [],
   "source": [
    "tok = WordPunctTokenizer()\n",
    "pat1 = r'@[A-Za-z0-9]+'\n",
    "pat2 = r'https?://[A-Za-z0-9./]+'\n",
    "combined_pat = r'|'.join((pat1, pat2))\n",
    "\n",
    "def remove_noise(tweet_tokens, stop_words = ()):\n",
    "\n",
    "    cleaned_tokens = []\n",
    "    words = []\n",
    "\n",
    "    for token, tag in pos_tag(tweet_tokens):\n",
    "        token = re.sub('http[s]?://(?:[a-zA-Z]|[0-9]|[$-_@.&+#]|[!*\\(\\),]|'\\\n",
    "                       '(?:%[0-9a-fA-F][0-9a-fA-F]))+','', token)\n",
    "        token = re.sub(\"(@[A-Za-z0-9_]+)\",\"\", token)\n",
    "\n",
    "        if tag.startswith(\"NN\"):\n",
    "            pos = 'n'\n",
    "        elif tag.startswith('VB'):\n",
    "            pos = 'v'\n",
    "        else:\n",
    "            pos = 'a'\n",
    "\n",
    "        lemmatizer = WordNetLemmatizer()\n",
    "        token = lemmatizer.lemmatize(token, pos)\n",
    "\n",
    "        if len(token) > 0 and token not in string.punctuation and token.lower() not in stop_words:\n",
    "            cleaned_tokens.append(token.lower())\n",
    "    \n",
    "    for text in cleaned_tokens:  \n",
    "        soup = BeautifulSoup(text, 'html5lib')\n",
    "        souped = soup.get_text()\n",
    "        stripped = re.sub(combined_pat, '', souped)\n",
    "        try:\n",
    "            clean = stripped.decode(\"utf-8-sig\").replace(u\"\\ufffd\", \"?\")\n",
    "        except:\n",
    "            clean = stripped\n",
    "        letters_only = re.sub(\"[^a-zA-Z]\", \" \", clean)\n",
    "        lower_case = letters_only.lower()\n",
    "        words.append(tok.tokenize(lower_case))\n",
    "        final_tokens = [j for i in words for j in i]\n",
    "    \n",
    "    return final_tokens "
   ]
  },
  {
   "cell_type": "markdown",
   "metadata": {},
   "source": [
    "### Printing the tokens after cleaning"
   ]
  },
  {
   "cell_type": "code",
   "execution_count": 88,
   "metadata": {},
   "outputs": [
    {
     "name": "stdout",
     "output_type": "stream",
     "text": [
      "['followfriday', 'top', 'engage', 'member', 'community', 'week']\n"
     ]
    }
   ],
   "source": [
    "print(remove_noise(tweet_tokens[0], stop_words))"
   ]
  },
  {
   "cell_type": "markdown",
   "metadata": {},
   "source": [
    "### Adding all the cleaned tokens of the tweets into a list of list"
   ]
  },
  {
   "cell_type": "code",
   "execution_count": 89,
   "metadata": {
    "collapsed": true
   },
   "outputs": [],
   "source": [
    "positive_tweet_tokens = twitter_samples.tokenized('positive_tweets.json')\n",
    "negative_tweet_tokens = twitter_samples.tokenized('negative_tweets.json')\n",
    "\n",
    "positive_cleaned_tokens_list = []\n",
    "negative_cleaned_tokens_list = []\n",
    "\n",
    "for tokens in positive_tweet_tokens:\n",
    "    positive_cleaned_tokens_list.append(remove_noise(tokens, stop_words))\n",
    "\n",
    "for tokens in negative_tweet_tokens:\n",
    "    negative_cleaned_tokens_list.append(remove_noise(tokens, stop_words))"
   ]
  },
  {
   "cell_type": "code",
   "execution_count": 90,
   "metadata": {},
   "outputs": [
    {
     "name": "stdout",
     "output_type": "stream",
     "text": [
      "[['followfriday', 'top', 'engage', 'member', 'community', 'week'], ['hey', 'james', 'odd', 'please', 'call', 'contact', 'centre', 'able', 'assist', 'many', 'thanks'], ['listen', 'last', 'night', 'bleed', 'amazing', 'track', 'scotland'], ['congrats'], ['yeaaaah', 'yippppy', 'accnt', 'verify', 'rqst', 'succeed', 'get', 'blue', 'tick', 'mark', 'fb', 'profile', 'day'], ['one', 'irresistible', 'flipkartfashionfriday'], ['like', 'keep', 'lovely', 'customer', 'wait', 'long', 'hope', 'enjoy', 'happy', 'friday', 'lwwf'], ['second', 'thought', 'enough', 'time', 'dd', 'new', 'short', 'enter', 'system', 'sheep', 'must', 'buy'], ['jgh', 'go', 'bayan', 'd', 'bye'], ['act', 'mischievousness', 'call', 'etl', 'layer', 'in', 'house', 'warehouse', 'app', 'katamari', 'well', 'name', 'imply', 'p'], ['followfriday', 'top', 'influencers', 'community', 'week'], ['love', 'big', 'juicy', 'selfies'], ['follow', 'follow', 'u', 'back'], ['perfect', 'already', 'know', 'what', 's', 'wait'], ['great', 'new', 'opportunity', 'junior', 'triathletes', 'age', 'gatorade', 'series', 'get', 'entry']]\n"
     ]
    }
   ],
   "source": [
    "#Printing the cleaned tokenized list\n",
    "print(positive_cleaned_tokens_list[0:15])\n"
   ]
  },
  {
   "cell_type": "markdown",
   "metadata": {},
   "source": [
    "### Creating dataset for SVM"
   ]
  },
  {
   "cell_type": "code",
   "execution_count": 91,
   "metadata": {},
   "outputs": [
    {
     "name": "stdout",
     "output_type": "stream",
     "text": [
      "Length of training dataset: 7000\n",
      "Length of testing dataset: 3000\n",
      "Train data: [(['like', 'dog'], 'Negative'), (['thaaanks', 'december', 'puhon'], 'Positive'), (['happy', 'birthday', 'we', 're', 'positive', 'full', 'cake'], 'Positive'), (['miss', 'infinite'], 'Negative'), (['followed', 'thanks', 'please', 'followed'], 'Negative')]\n",
      "\n",
      "Test data: [(['followfriday', 'top', 'support', 'community', 'week'], 'Positive'), (['anytime'], 'Positive'), (['kinda', 'smug', 'know', 'stuff', 'marrickville', 'public', 'ten', 'year', 'ago'], 'Positive'), (['school', 'monday', 'wanna', 'meet', 'new', 'people'], 'Negative'), (['poorly', 'bed', 'netflix', 'today'], 'Negative')]\n"
     ]
    }
   ],
   "source": [
    "positive_dataset = [(tweet_dict, \"Positive\") for tweet_dict in positive_cleaned_tokens_list]\n",
    "\n",
    "negative_dataset = [(tweet_dict, \"Negative\") for tweet_dict in negative_cleaned_tokens_list]\n",
    "\n",
    "data = positive_dataset + negative_dataset\n",
    "\n",
    "random.shuffle(data)\n",
    "\n",
    "#Dataset is split into 70% training data and 30% testing data\n",
    "train = data[:7000]\n",
    "test = data[7000:]\n",
    "\n",
    "print(\"Length of training dataset:\",len(train))\n",
    "print(\"Length of testing dataset:\",len(test))\n",
    "\n",
    "print(\"Train data:\",train[0:5])\n",
    "print(\"\\nTest data:\",test[0:5])"
   ]
  },
  {
   "cell_type": "markdown",
   "metadata": {},
   "source": [
    "### Support Vector Machines (SVM) Implementation"
   ]
  },
  {
   "cell_type": "markdown",
   "metadata": {},
   "source": [
    "### Data Analysis using Pandas"
   ]
  },
  {
   "cell_type": "code",
   "execution_count": 92,
   "metadata": {
    "collapsed": true
   },
   "outputs": [],
   "source": [
    "train_data = pd.DataFrame(train,columns = ['content', 'label'])\n",
    "test_data = pd.DataFrame(test, columns = ['content', 'label'])\n",
    "\n",
    "#Obtained data is converted into .csv\n",
    "train_data.to_csv(\"/train.csv\")\n",
    "test_data.to_csv(\"/test.csv\")"
   ]
  },
  {
   "cell_type": "code",
   "execution_count": 93,
   "metadata": {},
   "outputs": [
    {
     "name": "stdout",
     "output_type": "stream",
     "text": [
      "(7000, 2)\n",
      "(3000, 2)\n"
     ]
    }
   ],
   "source": [
    "#Read .csv as pandas dataframe\n",
    "trainn=pd.read_csv(\"/train.csv\")\n",
    "testt=pd.read_csv(\"/test.csv\")\n",
    "train=trainn.drop(columns=['Unnamed: 0'])\n",
    "test=testt.drop(columns=['Unnamed: 0'])\n",
    "\n",
    "print(train.shape)\n",
    "print(test.shape)"
   ]
  },
  {
   "cell_type": "code",
   "execution_count": 94,
   "metadata": {},
   "outputs": [
    {
     "data": {
      "text/html": [
       "<div>\n",
       "<style scoped>\n",
       "    .dataframe tbody tr th:only-of-type {\n",
       "        vertical-align: middle;\n",
       "    }\n",
       "\n",
       "    .dataframe tbody tr th {\n",
       "        vertical-align: top;\n",
       "    }\n",
       "\n",
       "    .dataframe thead th {\n",
       "        text-align: right;\n",
       "    }\n",
       "</style>\n",
       "<table border=\"1\" class=\"dataframe\">\n",
       "  <thead>\n",
       "    <tr style=\"text-align: right;\">\n",
       "      <th></th>\n",
       "      <th>content</th>\n",
       "      <th>label</th>\n",
       "    </tr>\n",
       "  </thead>\n",
       "  <tbody>\n",
       "    <tr>\n",
       "      <td>0</td>\n",
       "      <td>['like', 'dog']</td>\n",
       "      <td>Negative</td>\n",
       "    </tr>\n",
       "    <tr>\n",
       "      <td>1</td>\n",
       "      <td>['thaaanks', 'december', 'puhon']</td>\n",
       "      <td>Positive</td>\n",
       "    </tr>\n",
       "    <tr>\n",
       "      <td>2</td>\n",
       "      <td>['happy', 'birthday', 'we', 're', 'positive', ...</td>\n",
       "      <td>Positive</td>\n",
       "    </tr>\n",
       "    <tr>\n",
       "      <td>3</td>\n",
       "      <td>['miss', 'infinite']</td>\n",
       "      <td>Negative</td>\n",
       "    </tr>\n",
       "    <tr>\n",
       "      <td>4</td>\n",
       "      <td>['followed', 'thanks', 'please', 'followed']</td>\n",
       "      <td>Negative</td>\n",
       "    </tr>\n",
       "    <tr>\n",
       "      <td>5</td>\n",
       "      <td>['can', 't', 'post', 'message']</td>\n",
       "      <td>Negative</td>\n",
       "    </tr>\n",
       "    <tr>\n",
       "      <td>6</td>\n",
       "      <td>['bring', 'boatbound', 'brings', 'luxury', 'ya...</td>\n",
       "      <td>Positive</td>\n",
       "    </tr>\n",
       "    <tr>\n",
       "      <td>7</td>\n",
       "      <td>['listen', 'live']</td>\n",
       "      <td>Positive</td>\n",
       "    </tr>\n",
       "    <tr>\n",
       "      <td>8</td>\n",
       "      <td>['wish', 'could', 'dm', 'cute', 'thing', 'pref...</td>\n",
       "      <td>Negative</td>\n",
       "    </tr>\n",
       "    <tr>\n",
       "      <td>9</td>\n",
       "      <td>['kill']</td>\n",
       "      <td>Positive</td>\n",
       "    </tr>\n",
       "    <tr>\n",
       "      <td>10</td>\n",
       "      <td>['talk', 'month']</td>\n",
       "      <td>Positive</td>\n",
       "    </tr>\n",
       "    <tr>\n",
       "      <td>11</td>\n",
       "      <td>['looking', 'fun', 'kik', 'slacke', 'kik', 'ki...</td>\n",
       "      <td>Negative</td>\n",
       "    </tr>\n",
       "    <tr>\n",
       "      <td>12</td>\n",
       "      <td>['hope', 'thanks', 'mfundo']</td>\n",
       "      <td>Positive</td>\n",
       "    </tr>\n",
       "    <tr>\n",
       "      <td>13</td>\n",
       "      <td>['looks', 'good', 'pal', 'glad', 'pay', 'jerse...</td>\n",
       "      <td>Negative</td>\n",
       "    </tr>\n",
       "    <tr>\n",
       "      <td>14</td>\n",
       "      <td>['hii', 'follow', 'please', 'i', 'd', 'like', ...</td>\n",
       "      <td>Positive</td>\n",
       "    </tr>\n",
       "  </tbody>\n",
       "</table>\n",
       "</div>"
      ],
      "text/plain": [
       "                                              content     label\n",
       "0                                     ['like', 'dog']  Negative\n",
       "1                   ['thaaanks', 'december', 'puhon']  Positive\n",
       "2   ['happy', 'birthday', 'we', 're', 'positive', ...  Positive\n",
       "3                                ['miss', 'infinite']  Negative\n",
       "4        ['followed', 'thanks', 'please', 'followed']  Negative\n",
       "5                     ['can', 't', 'post', 'message']  Negative\n",
       "6   ['bring', 'boatbound', 'brings', 'luxury', 'ya...  Positive\n",
       "7                                  ['listen', 'live']  Positive\n",
       "8   ['wish', 'could', 'dm', 'cute', 'thing', 'pref...  Negative\n",
       "9                                            ['kill']  Positive\n",
       "10                                  ['talk', 'month']  Positive\n",
       "11  ['looking', 'fun', 'kik', 'slacke', 'kik', 'ki...  Negative\n",
       "12                       ['hope', 'thanks', 'mfundo']  Positive\n",
       "13  ['looks', 'good', 'pal', 'glad', 'pay', 'jerse...  Negative\n",
       "14  ['hii', 'follow', 'please', 'i', 'd', 'like', ...  Positive"
      ]
     },
     "execution_count": 94,
     "metadata": {},
     "output_type": "execute_result"
    }
   ],
   "source": [
    "#Printing train dataframe\n",
    "train.head(15)"
   ]
  },
  {
   "cell_type": "code",
   "execution_count": 95,
   "metadata": {},
   "outputs": [
    {
     "data": {
      "text/html": [
       "<div>\n",
       "<style scoped>\n",
       "    .dataframe tbody tr th:only-of-type {\n",
       "        vertical-align: middle;\n",
       "    }\n",
       "\n",
       "    .dataframe tbody tr th {\n",
       "        vertical-align: top;\n",
       "    }\n",
       "\n",
       "    .dataframe thead th {\n",
       "        text-align: right;\n",
       "    }\n",
       "</style>\n",
       "<table border=\"1\" class=\"dataframe\">\n",
       "  <thead>\n",
       "    <tr style=\"text-align: right;\">\n",
       "      <th></th>\n",
       "      <th>content</th>\n",
       "      <th>label</th>\n",
       "    </tr>\n",
       "  </thead>\n",
       "  <tbody>\n",
       "    <tr>\n",
       "      <td>0</td>\n",
       "      <td>['followfriday', 'top', 'support', 'community'...</td>\n",
       "      <td>Positive</td>\n",
       "    </tr>\n",
       "    <tr>\n",
       "      <td>1</td>\n",
       "      <td>['anytime']</td>\n",
       "      <td>Positive</td>\n",
       "    </tr>\n",
       "    <tr>\n",
       "      <td>2</td>\n",
       "      <td>['kinda', 'smug', 'know', 'stuff', 'marrickvil...</td>\n",
       "      <td>Positive</td>\n",
       "    </tr>\n",
       "    <tr>\n",
       "      <td>3</td>\n",
       "      <td>['school', 'monday', 'wanna', 'meet', 'new', '...</td>\n",
       "      <td>Negative</td>\n",
       "    </tr>\n",
       "    <tr>\n",
       "      <td>4</td>\n",
       "      <td>['poorly', 'bed', 'netflix', 'today']</td>\n",
       "      <td>Negative</td>\n",
       "    </tr>\n",
       "    <tr>\n",
       "      <td>5</td>\n",
       "      <td>['hi', 'j', 'upgrade', 't', 'mobile', 'orange'...</td>\n",
       "      <td>Positive</td>\n",
       "    </tr>\n",
       "    <tr>\n",
       "      <td>6</td>\n",
       "      <td>['mashaket']</td>\n",
       "      <td>Negative</td>\n",
       "    </tr>\n",
       "    <tr>\n",
       "      <td>7</td>\n",
       "      <td>['favorite', 'apple', 'sauce']</td>\n",
       "      <td>Positive</td>\n",
       "    </tr>\n",
       "    <tr>\n",
       "      <td>8</td>\n",
       "      <td>['new', 'sandra', 'bland', 'footage', 'really'...</td>\n",
       "      <td>Negative</td>\n",
       "    </tr>\n",
       "    <tr>\n",
       "      <td>9</td>\n",
       "      <td>['serious', 'note', 'reply', 'dm', 'send', 'ha...</td>\n",
       "      <td>Negative</td>\n",
       "    </tr>\n",
       "    <tr>\n",
       "      <td>10</td>\n",
       "      <td>['a', 'would', 'ice', 'cream', 'without', 'ice...</td>\n",
       "      <td>Negative</td>\n",
       "    </tr>\n",
       "    <tr>\n",
       "      <td>11</td>\n",
       "      <td>['inactive']</td>\n",
       "      <td>Negative</td>\n",
       "    </tr>\n",
       "    <tr>\n",
       "      <td>12</td>\n",
       "      <td>['regular', 'gym', 'workout', 'boring', 'could...</td>\n",
       "      <td>Negative</td>\n",
       "    </tr>\n",
       "    <tr>\n",
       "      <td>13</td>\n",
       "      <td>['dan', 'god', 'bless', 'meet', 'greet', 'soon']</td>\n",
       "      <td>Positive</td>\n",
       "    </tr>\n",
       "    <tr>\n",
       "      <td>14</td>\n",
       "      <td>['awwww', 'heres', 'quick', 'workout', 'boost']</td>\n",
       "      <td>Positive</td>\n",
       "    </tr>\n",
       "  </tbody>\n",
       "</table>\n",
       "</div>"
      ],
      "text/plain": [
       "                                              content     label\n",
       "0   ['followfriday', 'top', 'support', 'community'...  Positive\n",
       "1                                         ['anytime']  Positive\n",
       "2   ['kinda', 'smug', 'know', 'stuff', 'marrickvil...  Positive\n",
       "3   ['school', 'monday', 'wanna', 'meet', 'new', '...  Negative\n",
       "4               ['poorly', 'bed', 'netflix', 'today']  Negative\n",
       "5   ['hi', 'j', 'upgrade', 't', 'mobile', 'orange'...  Positive\n",
       "6                                        ['mashaket']  Negative\n",
       "7                      ['favorite', 'apple', 'sauce']  Positive\n",
       "8   ['new', 'sandra', 'bland', 'footage', 'really'...  Negative\n",
       "9   ['serious', 'note', 'reply', 'dm', 'send', 'ha...  Negative\n",
       "10  ['a', 'would', 'ice', 'cream', 'without', 'ice...  Negative\n",
       "11                                       ['inactive']  Negative\n",
       "12  ['regular', 'gym', 'workout', 'boring', 'could...  Negative\n",
       "13   ['dan', 'god', 'bless', 'meet', 'greet', 'soon']  Positive\n",
       "14    ['awwww', 'heres', 'quick', 'workout', 'boost']  Positive"
      ]
     },
     "execution_count": 95,
     "metadata": {},
     "output_type": "execute_result"
    }
   ],
   "source": [
    "#Printing test dataframe\n",
    "test.head(15)"
   ]
  },
  {
   "cell_type": "markdown",
   "metadata": {},
   "source": [
    "### Vectorizing the data using vectorizer for SVM"
   ]
  },
  {
   "cell_type": "code",
   "execution_count": 96,
   "metadata": {
    "collapsed": true
   },
   "outputs": [],
   "source": [
    "vectorizer = TfidfVectorizer(sublinear_tf = True, use_idf = True)\n",
    "\n",
    "#Train and test data are converted into vectors for training SVM model\n",
    "train_vectors = vectorizer.fit_transform(train['content'])\n",
    "test_vectors = vectorizer.transform(test['content'])"
   ]
  },
  {
   "cell_type": "markdown",
   "metadata": {},
   "source": [
    "### Training the SVM classifier"
   ]
  },
  {
   "cell_type": "code",
   "execution_count": 97,
   "metadata": {
    "collapsed": true
   },
   "outputs": [],
   "source": [
    "#Training\n",
    "#Using Linear SVC\n",
    "classifier_svm = svm.SVC(kernel='linear')\n",
    "classifier_svm.fit(train_vectors, train['label'])\n",
    "prediction_svm = classifier_svm.predict(test_vectors)"
   ]
  },
  {
   "cell_type": "markdown",
   "metadata": {},
   "source": [
    "### Evaluation"
   ]
  },
  {
   "cell_type": "code",
   "execution_count": 98,
   "metadata": {},
   "outputs": [
    {
     "name": "stdout",
     "output_type": "stream",
     "text": [
      "Positive:  {'precision': 0.775886524822695, 'recall': 0.7211601845748187, 'f1-score': 0.747523061154766, 'support': 1517}\n",
      "Negative:  {'precision': 0.7339622641509433, 'recall': 0.786918408631153, 'f1-score': 0.7595183859420761, 'support': 1483}\n",
      "\n",
      "Accuracy is  75.36666666666667\n"
     ]
    }
   ],
   "source": [
    "classification_report = classification_report(test['label'], prediction_svm, output_dict=True)\n",
    "\n",
    "print('Positive: ', classification_report['Positive'])\n",
    "print('Negative: ', classification_report['Negative'])\n",
    "print(\"\\nAccuracy is \", accuracy_score(prediction_svm, test['label'])*100)"
   ]
  },
  {
   "cell_type": "markdown",
   "metadata": {},
   "source": [
    "### Collecting data from twitter using tweetpy that serves as the input data"
   ]
  },
  {
   "cell_type": "code",
   "execution_count": 116,
   "metadata": {},
   "outputs": [
    {
     "name": "stdout",
     "output_type": "stream",
     "text": [
      "Enter Keyword/Tag to search about: donald trump\n",
      "Enter how many tweets to search: 5\n",
      "\n",
      "Raw tweets: ['RT @jeremymbarr: Mark Cuban to Sean Hannity: \"Donald Trump can\\'t answer your questions. You and every Fox News interviewer gives him the ea…', 'RT @davidplouffe: COVID-19 may have originated in China. The deadly pathogen found it’s perfect host in Donald J Trump.', 'RT @sara_hi_c: Donald trump says if we stop testing we won’t have cases ... so if I stop looking at my bills I don’t have them anymore ? 👀', 'RT @CNN: Most Presidents would try to stop the United States from barreling toward disaster. But Donald Trump has nothing to say and no ans…', 'RT @PamKeithFL: I call on Donald Trump to resign his presidency immediately.']\n",
      "\n",
      "Predicted Sentiment for tweet 1:['Positive']\n",
      "\n",
      "Predicted Sentiment for tweet 2:['Positive']\n",
      "\n",
      "Predicted Sentiment for tweet 3:['Positive']\n",
      "\n",
      "Predicted Sentiment for tweet 4:['Negative']\n",
      "\n",
      "Predicted Sentiment for tweet 5:['Negative']\n"
     ]
    }
   ],
   "source": [
    "import tweepy,csv,re,json\n",
    "from tweepy.streaming import StreamListener\n",
    "from tweepy import OAuthHandler\n",
    "from tweepy import Stream\n",
    "\n",
    "tweetText = []\n",
    "consumer_key='vn4Bchk1jcxRQY4Hlea4dmpkS'\n",
    "consumer_secret ='9aN4JfIyM9oChyqNjVx68OdFahh68HPYcyzzD7jcIFDQ26WBWB'\n",
    "access_token = '1267422786479423494-zHorrWgAMF2kFGhBZSp62qLLOrJVcz'\n",
    "access_token_secret ='fVN4HX1bVllOEHS9EDsSNCOmg2dUzsJwGRD06IZHz3oqQ'\n",
    "\n",
    "auth = tweepy.OAuthHandler(consumer_key, consumer_secret)\n",
    "auth.set_access_token(access_token, access_token_secret)\n",
    "api = tweepy.API(auth)\n",
    "\n",
    "\n",
    "# input for term to be searched and how many tweets to search\n",
    "searchTerm = input(\"Enter Keyword/Tag to search about: \")\n",
    "NoOfTerms = int(input(\"Enter how many tweets to search: \"))\n",
    "\n",
    "# searching for tweets\n",
    "tweets = tweepy.Cursor(api.search, q=searchTerm, lang = \"en\").items(NoOfTerms)\n",
    "\n",
    "\n",
    "for tweet in tweets:\n",
    "    tweetText.append(tweet.text)\n",
    "    \n",
    "print(\"\\nRaw tweets:\",tweetText)\n",
    "\n",
    "final_tweets = []\n",
    "\n",
    "for i in tweetText:\n",
    "    final_tweets.append(remove_noise(word_tokenize(i)))\n",
    "\n",
    "joined_strings=[]\n",
    "for tweet in final_tweets:\n",
    "    joined_strings.append((\" \").join(tweet))\n",
    "\n",
    "count=1\n",
    "for i in joined_strings:\n",
    "    input_vector = vectorizer.transform([i])\n",
    "    predicted_sentiment=classifier_svm.predict(input_vector)\n",
    "    print(\"\\nPredicted Sentiment for tweet {0}:{1}\".format(count,predicted_sentiment))\n",
    "    count+=1\n",
    "    "
   ]
  },
  {
   "cell_type": "markdown",
   "metadata": {},
   "source": [
    "### Plotting the Confusion Matrix"
   ]
  },
  {
   "cell_type": "code",
   "execution_count": 110,
   "metadata": {},
   "outputs": [
    {
     "data": {
      "text/plain": [
       "<matplotlib.axes._subplots.AxesSubplot at 0x1be4fb85648>"
      ]
     },
     "execution_count": 110,
     "metadata": {},
     "output_type": "execute_result"
    },
    {
     "data": {
      "image/png": "[encoded data removed]",
      "text/plain": [
       "<Figure size 432x288 with 2 Axes>"
      ]
     },
     "metadata": {
      "needs_background": "light"
     },
     "output_type": "display_data"
    }
   ],
   "source": [
    "cm=confusion_matrix(test['label'],prediction_svm)\n",
    "df_confusion = pd.crosstab(test['label'],prediction_svm,rownames=['Actual'], colnames=['Predicted'], margins=True)\n",
    "#print(df_confusion)\n",
    "plt.title(\"Confusion Matrix\")\n",
    "sn.heatmap(df_confusion,annot=True)\n"
   ]
  },
  {
   "cell_type": "code",
   "execution_count": null,
   "metadata": {
    "collapsed": true
   },
   "outputs": [],
   "source": []
  }
 ],
 "metadata": {
  "kernelspec": {
   "display_name": "Python 3",
   "language": "python",
   "name": "python3"
  },
  "language_info": {
   "codemirror_mode": {
    "name": "ipython",
    "version": 3
   },
   "file_extension": ".py",
   "mimetype": "text/x-python",
   "name": "python",
   "nbconvert_exporter": "python",
   "pygments_lexer": "ipython3",
   "version": "3.6.3"
  }
 },
 "nbformat": 4,
 "nbformat_minor": 2
}
